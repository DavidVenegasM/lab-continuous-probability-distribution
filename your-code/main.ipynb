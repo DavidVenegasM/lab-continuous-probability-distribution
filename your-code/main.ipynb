{
 "cells": [
  {
   "cell_type": "markdown",
   "metadata": {},
   "source": [
    "# Before your start:\n",
    "\n",
    "    Read the README.md file\n",
    "    Comment as much as you can and use the resources (README.md file)\n",
    "    Happy learning!"
   ]
  },
  {
   "cell_type": "markdown",
   "metadata": {},
   "source": [
    "In this exercise, we  will generate random numbers from the continuous disributions we learned in the lesson. There are two ways to generate random numbers:\n",
    "\n",
    "1. Using the numpy library \n",
    "1. using the Scipy library \n",
    "\n",
    "Use either or both of the lbraries in this exercise."
   ]
  },
  {
   "cell_type": "markdown",
   "metadata": {},
   "source": [
    "## Uniform Distribution\n",
    "\n",
    "To generate uniform random numbers between any two given values using scipy, we can either use the following code or the code that we have\n",
    "discussed in class:"
   ]
  },
  {
   "cell_type": "code",
   "execution_count": 28,
   "metadata": {},
   "outputs": [
    {
     "name": "stdout",
     "output_type": "stream",
     "text": [
      "[12.65900377 12.7735238  12.53820583 12.45343609 10.92425628 13.93137434\n",
      " 14.58768533 13.18189973 14.29960319 10.97373602]\n"
     ]
    },
    {
     "data": {
      "text/plain": [
       "array([0.53180075, 0.55470476, 0.50764117, 0.49068722, 0.18485126,\n",
       "       0.78627487, 0.91753707, 0.63637995, 0.85992064, 0.1947472 ])"
      ]
     },
     "execution_count": 28,
     "metadata": {},
     "output_type": "execute_result"
    }
   ],
   "source": [
    "from scipy.stats import uniform\n",
    "x = uniform.rvs(size=10)\n",
    "a = 10\n",
    "b = 15\n",
    "randoms  = a + (b-a)*x\n",
    "print(randoms)\n",
    "x"
   ]
  },
  {
   "cell_type": "markdown",
   "metadata": {},
   "source": [
    "**Your task:**\n",
    "\n",
    "1. Based on the code above, write a function that generates uniformly distributed random numbers. There are several requirements for your function:\n",
    "    * It should accept 3 parameters: \n",
    "        * `bottom` - the lower boundary of the generated numbers\n",
    "        * `ceiling` - the upper boundary of the generated numbers\n",
    "        * `count` - how many numbers to generate\n",
    "    * It should return an array of uniformly distributed random numbers\n",
    "\n",
    "1. Call your function with 2 sets of params below:\n",
    "    * bottom=10, ceiling=15, count=100\n",
    "    * bottom=10, ceiling=60, count=1,000\n",
    "\n",
    "1. Plot the uniform distributions generated above using histograms, where x axis is the value and y axis is the count. Let the histogram's number of bins be 10.\n",
    "\n",
    "Your output should look like below:\n",
    "\n",
    "![uniform distribution](ud.png)"
   ]
  },
  {
   "cell_type": "code",
   "execution_count": 46,
   "metadata": {},
   "outputs": [
    {
     "data": {
      "text/plain": [
       "(array([ 92., 101.,  92., 105., 111.,  98.,  98., 111.,  82., 110.]),\n",
       " array([10.00526172, 14.99529414, 19.98532657, 24.97535899, 29.96539141,\n",
       "        34.95542384, 39.94545626, 44.93548869, 49.92552111, 54.91555354,\n",
       "        59.90558596]),\n",
       " <BarContainer object of 10 artists>)"
      ]
     },
     "execution_count": 46,
     "metadata": {},
     "output_type": "execute_result"
    },
    {
     "data": {
      "image/png": "[encoded data removed]",
      "text/plain": [
       "<Figure size 432x288 with 2 Axes>"
      ]
     },
     "metadata": {
      "needs_background": "light"
     },
     "output_type": "display_data"
    }
   ],
   "source": [
    "# your code here\n",
    "import matplotlib.pyplot as plt\n",
    "def uni_dist_rand_num ( bottom, ceiling, count):\n",
    "    a = bottom\n",
    "    b = ceiling\n",
    "    x = uniform.rvs(size=count)\n",
    "    randoms  = a + (b-a)*x\n",
    "    return randoms\n",
    "\n",
    "fig, (ax1,ax2) =plt.subplots(1,2, sharey=True)\n",
    "ax1.hist(x=uni_dist_rand_num(10,15,100), bins=10)\n",
    "ax2.hist(x=uni_dist_rand_num(10,60,1_000), bins=10)"
   ]
  },
  {
   "cell_type": "markdown",
   "metadata": {},
   "source": [
    "How are the two distributions different?"
   ]
  },
  {
   "cell_type": "code",
   "execution_count": 4,
   "metadata": {},
   "outputs": [],
   "source": [
    "# your answer below"
   ]
  },
  {
   "cell_type": "markdown",
   "metadata": {},
   "source": [
    "## Normal Distribution\n",
    "\n",
    "1. In the same way in the Uniform Distribution challenge, write a function that generates normally distributed random numbers.\n",
    "1. Generate 1,000 normally distributed numbers with the average of 10 and standard deviation of 1\n",
    "1. Generate 1,000 normally distributed numbers with the average of 10 and standard deviation of 50\n",
    "2. Plot the distributions of the data generated.\n",
    "\n",
    "Expected output:\n",
    "\n",
    "![normal distribution](nd.png)"
   ]
  },
  {
   "cell_type": "code",
   "execution_count": 56,
   "metadata": {},
   "outputs": [
    {
     "data": {
      "text/plain": [
       "(array([ 1.,  0.,  0.,  0.,  2.,  0.,  0.,  0.,  5.,  5.,  6.,  5., 12.,\n",
       "        15., 13., 20., 34., 24., 36., 40., 31., 48., 47., 55., 50., 62.,\n",
       "        61., 54., 49., 49., 47., 42., 32., 30., 28., 24., 21., 12.,  8.,\n",
       "         8.,  9.,  3.,  4.,  1.,  3.,  1.,  1.,  1.,  0.,  1.]),\n",
       " array([-160.25689192, -153.56365077, -146.87040961, -140.17716845,\n",
       "        -133.4839273 , -126.79068614, -120.09744498, -113.40420383,\n",
       "        -106.71096267, -100.01772151,  -93.32448036,  -86.6312392 ,\n",
       "         -79.93799804,  -73.24475689,  -66.55151573,  -59.85827457,\n",
       "         -53.16503342,  -46.47179226,  -39.7785511 ,  -33.08530995,\n",
       "         -26.39206879,  -19.69882763,  -13.00558647,   -6.31234532,\n",
       "           0.38089584,    7.074137  ,   13.76737815,   20.46061931,\n",
       "          27.15386047,   33.84710162,   40.54034278,   47.23358394,\n",
       "          53.92682509,   60.62006625,   67.31330741,   74.00654856,\n",
       "          80.69978972,   87.39303088,   94.08627203,  100.77951319,\n",
       "         107.47275435,  114.1659955 ,  120.85923666,  127.55247782,\n",
       "         134.24571898,  140.93896013,  147.63220129,  154.32544245,\n",
       "         161.0186836 ,  167.71192476,  174.40516592]),\n",
       " <BarContainer object of 50 artists>)"
      ]
     },
     "execution_count": 56,
     "metadata": {},
     "output_type": "execute_result"
    },
    {
     "data": {
      "image/png": "[encoded data removed]",
      "text/plain": [
       "<Figure size 432x288 with 2 Axes>"
      ]
     },
     "metadata": {
      "needs_background": "light"
     },
     "output_type": "display_data"
    }
   ],
   "source": [
    "# your code here\n",
    "from scipy.stats import norm\n",
    "\n",
    "def norm_dist_rand_num ( average, std_dev, count):\n",
    "    x = norm.rvs(scale= std_dev, loc= average,size=count)\n",
    "    return x\n",
    "\n",
    "fig, (ax1,ax2) = plt.subplots(1,2, sharey=True)\n",
    "ax1.hist(norm_dist_rand_num(10,1,1000), bins=50)\n",
    "ax2.hist(norm_dist_rand_num(10,50,1000), bins=50)\n"
   ]
  },
  {
   "cell_type": "markdown",
   "metadata": {},
   "source": [
    "How are the two distributions different?"
   ]
  },
  {
   "cell_type": "code",
   "execution_count": 6,
   "metadata": {},
   "outputs": [],
   "source": [
    "# your answer below"
   ]
  },
  {
   "cell_type": "markdown",
   "metadata": {},
   "source": [
    "## Normal Distribution of Real Data\n",
    "\n",
    "In this challenge we are going to take a look the real data. We will use vehicles.csv file for this exercise"
   ]
  },
  {
   "cell_type": "markdown",
   "metadata": {},
   "source": [
    "First import vehicles.csv.\n",
    "Then plot the histograms for the following variables:\n",
    "\n",
    "1. Fuel Barrels/Year"
   ]
  },
  {
   "cell_type": "code",
   "execution_count": 61,
   "metadata": {},
   "outputs": [
    {
     "data": {
      "text/plain": [
       "Index(['Make', 'Model', 'Year', 'Engine Displacement', 'Cylinders',\n",
       "       'Transmission', 'Drivetrain', 'Vehicle Class', 'Fuel Type',\n",
       "       'Fuel Barrels/Year', 'City MPG', 'Highway MPG', 'Combined MPG',\n",
       "       'CO2 Emission Grams/Mile', 'Fuel Cost/Year'],\n",
       "      dtype='object')"
      ]
     },
     "execution_count": 61,
     "metadata": {},
     "output_type": "execute_result"
    }
   ],
   "source": [
    "import pandas as pd\n",
    "import seaborn as sns\n",
    "\n",
    "vehicles = pd.read_csv('vehicles.csv')\n",
    "vehicles.head()\n",
    "vehicles.columns"
   ]
  },
  {
   "cell_type": "code",
   "execution_count": 69,
   "metadata": {},
   "outputs": [
    {
     "data": {
      "text/plain": [
       "<AxesSubplot:xlabel='Fuel Barrels/Year', ylabel='Count'>"
      ]
     },
     "execution_count": 69,
     "metadata": {},
     "output_type": "execute_result"
    },
    {
     "data": {
      "image/png": "[encoded data removed]",
      "text/plain": [
       "<Figure size 432x288 with 1 Axes>"
      ]
     },
     "metadata": {
      "needs_background": "light"
     },
     "output_type": "display_data"
    }
   ],
   "source": [
    "# your code here\n",
    "plt.hist(x=vehicles['Fuel Barrels/Year'], bins=50)\n",
    "sns.histplot(data= vehicles, x='Fuel Barrels/Year', stat='count', color='r')\n"
   ]
  },
  {
   "cell_type": "markdown",
   "metadata": {},
   "source": [
    "2. CO2 Emission Grams/Mile "
   ]
  },
  {
   "cell_type": "code",
   "execution_count": 70,
   "metadata": {},
   "outputs": [
    {
     "data": {
      "text/plain": [
       "<AxesSubplot:xlabel='CO2 Emission Grams/Mile', ylabel='Count'>"
      ]
     },
     "execution_count": 70,
     "metadata": {},
     "output_type": "execute_result"
    },
    {
     "data": {
      "image/png": "[encoded data removed]",
      "text/plain": [
       "<Figure size 432x288 with 1 Axes>"
      ]
     },
     "metadata": {
      "needs_background": "light"
     },
     "output_type": "display_data"
    }
   ],
   "source": [
    "# your code here\n",
    "plt.hist(x=vehicles['CO2 Emission Grams/Mile'], bins=50)\n",
    "sns.histplot(data= vehicles, x='CO2 Emission Grams/Mile', stat='count', color='r')"
   ]
  },
  {
   "cell_type": "markdown",
   "metadata": {},
   "source": [
    "3. Combined MPG"
   ]
  },
  {
   "cell_type": "code",
   "execution_count": 71,
   "metadata": {},
   "outputs": [
    {
     "data": {
      "text/plain": [
       "<AxesSubplot:xlabel='Combined MPG', ylabel='Count'>"
      ]
     },
     "execution_count": 71,
     "metadata": {},
     "output_type": "execute_result"
    },
    {
     "data": {
      "image/png": "[encoded data removed]",
      "text/plain": [
       "<Figure size 432x288 with 1 Axes>"
      ]
     },
     "metadata": {
      "needs_background": "light"
     },
     "output_type": "display_data"
    }
   ],
   "source": [
    "# your code here\n",
    "plt.hist(x=vehicles['Combined MPG'], bins=50)\n",
    "sns.histplot(data= vehicles, x='Combined MPG', stat='count', color='r')"
   ]
  },
  {
   "cell_type": "markdown",
   "metadata": {},
   "source": [
    "Which one(s) of the variables are nearly normally distributed? How do you know?"
   ]
  },
  {
   "cell_type": "code",
   "execution_count": 10,
   "metadata": {},
   "outputs": [],
   "source": [
    "# your answer here\n",
    "'CO2 Emission Grams/Mile'\n",
    "'Fuel Barrels/Year'\n",
    "\n",
    "#columns mentioned above are the ones that are nearly normally distributed since these are following similar shape as the normal one. however 'Combined MPG' could be but it seems more like binomial distribution"
   ]
  },
  {
   "cell_type": "markdown",
   "metadata": {},
   "source": [
    "## Exponential Distribution"
   ]
  },
  {
   "cell_type": "markdown",
   "metadata": {},
   "source": [
    "1. Using `numpy.random.exponential`, create a function that returns a list of numbers exponentially distributed with the mean of 10. \n",
    "\n",
    "1. Use the function to generate two number sequences with the size of 1 and 100.\n",
    "\n",
    "1. Plot the distributions as histograms with the nubmer of bins as 100.\n",
    "\n",
    "Your output should look like below:\n",
    "\n",
    "![exponential distribution](ed.png)"
   ]
  },
  {
   "cell_type": "code",
   "execution_count": 178,
   "metadata": {},
   "outputs": [
    {
     "name": "stdout",
     "output_type": "stream",
     "text": [
      "[0.85823154]\n"
     ]
    },
    {
     "data": {
      "text/plain": [
       "(array([3., 3., 7., 4., 1., 2., 4., 6., 4., 3., 5., 4., 5., 0., 3., 0., 2.,\n",
       "        2., 1., 3., 2., 1., 3., 2., 0., 2., 1., 2., 2., 1., 0., 1., 0., 3.,\n",
       "        0., 0., 1., 1., 0., 3., 4., 0., 0., 2., 0., 1., 0., 0., 0., 1., 0.,\n",
       "        0., 0., 0., 0., 0., 0., 0., 0., 0., 0., 0., 1., 0., 0., 0., 0., 0.,\n",
       "        1., 0., 0., 0., 0., 0., 0., 0., 0., 0., 0., 0., 0., 0., 1., 0., 0.,\n",
       "        0., 0., 1., 0., 0., 0., 0., 0., 0., 0., 0., 0., 0., 0., 1.]),\n",
       " array([5.93622988e-03, 6.11160593e-01, 1.21638496e+00, 1.82160932e+00,\n",
       "        2.42683368e+00, 3.03205805e+00, 3.63728241e+00, 4.24250677e+00,\n",
       "        4.84773113e+00, 5.45295550e+00, 6.05817986e+00, 6.66340422e+00,\n",
       "        7.26862859e+00, 7.87385295e+00, 8.47907731e+00, 9.08430168e+00,\n",
       "        9.68952604e+00, 1.02947504e+01, 1.08999748e+01, 1.15051991e+01,\n",
       "        1.21104235e+01, 1.27156479e+01, 1.33208722e+01, 1.39260966e+01,\n",
       "        1.45313209e+01, 1.51365453e+01, 1.57417697e+01, 1.63469940e+01,\n",
       "        1.69522184e+01, 1.75574428e+01, 1.81626671e+01, 1.87678915e+01,\n",
       "        1.93731158e+01, 1.99783402e+01, 2.05835646e+01, 2.11887889e+01,\n",
       "        2.17940133e+01, 2.23992377e+01, 2.30044620e+01, 2.36096864e+01,\n",
       "        2.42149108e+01, 2.48201351e+01, 2.54253595e+01, 2.60305838e+01,\n",
       "        2.66358082e+01, 2.72410326e+01, 2.78462569e+01, 2.84514813e+01,\n",
       "        2.90567057e+01, 2.96619300e+01, 3.02671544e+01, 3.08723787e+01,\n",
       "        3.14776031e+01, 3.20828275e+01, 3.26880518e+01, 3.32932762e+01,\n",
       "        3.38985006e+01, 3.45037249e+01, 3.51089493e+01, 3.57141736e+01,\n",
       "        3.63193980e+01, 3.69246224e+01, 3.75298467e+01, 3.81350711e+01,\n",
       "        3.87402955e+01, 3.93455198e+01, 3.99507442e+01, 4.05559686e+01,\n",
       "        4.11611929e+01, 4.17664173e+01, 4.23716416e+01, 4.29768660e+01,\n",
       "        4.35820904e+01, 4.41873147e+01, 4.47925391e+01, 4.53977635e+01,\n",
       "        4.60029878e+01, 4.66082122e+01, 4.72134365e+01, 4.78186609e+01,\n",
       "        4.84238853e+01, 4.90291096e+01, 4.96343340e+01, 5.02395584e+01,\n",
       "        5.08447827e+01, 5.14500071e+01, 5.20552315e+01, 5.26604558e+01,\n",
       "        5.32656802e+01, 5.38709045e+01, 5.44761289e+01, 5.50813533e+01,\n",
       "        5.56865776e+01, 5.62918020e+01, 5.68970264e+01, 5.75022507e+01,\n",
       "        5.81074751e+01, 5.87126994e+01, 5.93179238e+01, 5.99231482e+01,\n",
       "        6.05283725e+01]),\n",
       " <BarContainer object of 100 artists>)"
      ]
     },
     "execution_count": 178,
     "metadata": {},
     "output_type": "execute_result"
    },
    {
     "data": {
      "image/png": "[encoded data removed]",
      "text/plain": [
       "<Figure size 432x288 with 2 Axes>"
      ]
     },
     "metadata": {
      "needs_background": "light"
     },
     "output_type": "display_data"
    }
   ],
   "source": [
    "# your code here\n",
    "import numpy as np\n",
    "def exp_dist_rand_exp(pSize):\n",
    "    mean_val = 10    \n",
    "    return np.random.exponential(scale= mean_val, size = pSize)\n",
    "\n",
    "fig, (ax1, ax2) = plt.subplots(1,2)\n",
    "ax1.hist(x=exp_dist_rand_exp(1), bins=100)\n",
    "#sns.histplot(y=exp_dist_rand_exp(1))\n",
    "ax2.hist(x=exp_dist_rand_exp(100), bins=100)\n",
    "#sns.histplot(x=exp_dist_rand_exp(100))\n"
   ]
  },
  {
   "cell_type": "markdown",
   "metadata": {},
   "source": [
    "How are the two distributions different?"
   ]
  },
  {
   "cell_type": "code",
   "execution_count": 12,
   "metadata": {},
   "outputs": [],
   "source": [
    "# your answer here\n",
    "\n",
    "\n",
    "# in the first one there is a just one value so we cannot get any relevant result, in the second one, mean is not 10 exactly, its mean is rounding near 10 depending on the result of the random exponential function"
   ]
  },
  {
   "cell_type": "markdown",
   "metadata": {},
   "source": [
    "## Exponential Distribution of Real Data\n",
    "\n",
    "Suppose that the amount of time one spends in a bank is exponentially distributed with mean as 10 minutes (i.e. λ = 1/10). What is the probability that a customer will spend less than fifteen minutes in the bank? \n",
    "\n",
    "Write a code in python to solve this problem"
   ]
  },
  {
   "cell_type": "code",
   "execution_count": 183,
   "metadata": {},
   "outputs": [
    {
     "data": {
      "text/plain": [
       "0.022313016014842982"
      ]
     },
     "execution_count": 183,
     "metadata": {},
     "output_type": "execute_result"
    }
   ],
   "source": [
    "# your answer here\n",
    "# Hint: This is same as saying P(x<15)\n",
    "from scipy.stats import expon\n",
    "\n",
    "exp_dist = expon.pdf(scale=10, x=15)\n",
    "exp_dist\n",
    "\n"
   ]
  },
  {
   "cell_type": "markdown",
   "metadata": {},
   "source": [
    "What is the probability that the customer will spend more than 15 minutes"
   ]
  },
  {
   "cell_type": "code",
   "execution_count": 184,
   "metadata": {},
   "outputs": [
    {
     "data": {
      "text/plain": [
       "0.977686983985157"
      ]
     },
     "execution_count": 184,
     "metadata": {},
     "output_type": "execute_result"
    }
   ],
   "source": [
    "# your answer here\n",
    "1-exp_dist"
   ]
  },
  {
   "cell_type": "code",
   "execution_count": null,
   "metadata": {},
   "outputs": [],
   "source": []
  }
 ],
 "metadata": {
  "kernelspec": {
   "display_name": "Python 3",
   "language": "python",
   "name": "python3"
  },
  "language_info": {
   "codemirror_mode": {
    "name": "ipython",
    "version": 3
   },
   "file_extension": ".py",
   "mimetype": "text/x-python",
   "name": "python",
   "nbconvert_exporter": "python",
   "pygments_lexer": "ipython3",
   "version": "3.9.7"
  }
 },
 "nbformat": 4,
 "nbformat_minor": 2
}
